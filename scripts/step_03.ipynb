{
 "cells": [
  {
   "cell_type": "markdown",
   "metadata": {
    "vscode": {
     "languageId": "ruby"
    }
   },
   "source": [
    "# Gerador de Documentação DBT - Conexa"
   ]
  },
  {
   "cell_type": "markdown",
   "metadata": {
    "vscode": {
     "languageId": "ruby"
    }
   },
   "source": [
    "- Time: Engenheira de Dados\n",
    "- Autor: Anselmo Oliveira\n",
    "- Código auxiliar utilizado para renomear os arquivos e separar view e tabelas."
   ]
  },
  {
   "cell_type": "code",
   "execution_count": null,
   "metadata": {
    "vscode": {
     "languageId": "ruby"
    }
   },
   "outputs": [],
   "source": [
    "import os\n",
    "\n",
    "# Define o diretório onde os arquivos estão localizados\n",
    "directory = '../bronze/'\n",
    "\n",
    "# Itera sobre os arquivos no diretório\n",
    "for filename in os.listdir(directory):\n",
    "    # Define o novo nome para o arquivo\n",
    "    filename2 = filename.replace(\".yaml\", \"\")\n",
    "    new_name = f\"{filename2}_schema.yaml\"\n",
    "    \n",
    "    # Renomeia o arquivo\n",
    "    os.rename(os.path.join(directory, filename), os.path.join(directory, new_name))\n",
    "\n",
    "print(\"Arquivos renomeados com sucesso!\")"
   ]
  },
  {
   "cell_type": "code",
   "execution_count": null,
   "metadata": {
    "vscode": {
     "languageId": "ruby"
    }
   },
   "outputs": [],
   "source": [
    "# Bibliotecas\n",
    "from dotenv import load_dotenv\n",
    "from sqlalchemy import create_engine, MetaData\n",
    "from sqlalchemy import inspect\n",
    "from trino.auth import BasicAuthentication\n",
    "import pandas as pd\n",
    "import shutil\n",
    "import os\n",
    "import time\n",
    "load_dotenv(dotenv_path='./../.env')"
   ]
  },
  {
   "cell_type": "code",
   "execution_count": null,
   "metadata": {
    "vscode": {
     "languageId": "ruby"
    }
   },
   "outputs": [],
   "source": [
    "key_groq = os.getenv('GROQ_API3')\n",
    "key_trino = os.getenv('KEY_TRINO')\n",
    "key_gpt= os.getenv('OPENAI_API_KEY')\n",
    "engine_trino = os.getenv('ENGINE_TRINO')\n",
    "url_engine_postgres = os.getenv('ENGINE_POSTGRES')"
   ]
  },
  {
   "cell_type": "code",
   "execution_count": null,
   "metadata": {
    "vscode": {
     "languageId": "ruby"
    }
   },
   "outputs": [],
   "source": [
    "schemas = ['bronze']"
   ]
  },
  {
   "cell_type": "code",
   "execution_count": null,
   "metadata": {
    "vscode": {
     "languageId": "ruby"
    }
   },
   "outputs": [],
   "source": [
    "for schema in schemas:\n",
    "    engine_trino = create_engine(\n",
    "        f\"trino://anselmo.oliveira@conexasaude.com.br:{key_trino}@oliver.conexasaude.com.br:8446/delta/{schema}\",\n",
    "        connect_args={\n",
    "            \"auth\": BasicAuthentication(\"anselmo.oliveira@conexasaude.com.br\", key_trino),\n",
    "            \"http_scheme\": \"https\",\n",
    "            \"verify\": True,\n",
    "        }\n",
    "    )\n",
    "\n",
    "    engine_postgres = create_engine(url_engine_postgres)\n",
    "\n",
    "    print('🔄 Criando a engine tabelas e views')\n",
    "\n",
    "    inspector = inspect(engine_trino)\n",
    "    tabelas_trino = inspector.get_table_names()\n",
    "    views_trino = inspector.get_view_names()\n",
    "\n",
    "    for tabela in tabelas_trino:\n",
    "        current_path = os.path.join(f'../{schema}/', tabela + '_schema.yaml')\n",
    "        new_path = os.path.join(f'../{schema}/table/', tabela + '_schema.yaml')\n",
    "\n",
    "        if os.path.exists(current_path):\n",
    "            os.makedirs(os.path.dirname(new_path), exist_ok=True)\n",
    "            shutil.move(current_path, new_path)\n",
    "            print(f\"✅ Arquivo movido para {new_path}\")\n",
    "        else:\n",
    "            print(f\"⚠️ Arquivo não encontrado: {current_path}\")\n",
    "\n",
    "    for view in views_trino:\n",
    "        current_path = os.path.join(f'../{schema}/', view + '_schema.yaml')\n",
    "        new_path = os.path.join(f'../{schema}/stg/', view + '_schema.yaml')\n",
    "        \n",
    "        if os.path.exists(current_path):\n",
    "            os.makedirs(os.path.dirname(new_path), exist_ok=True)\n",
    "            shutil.move(current_path, new_path)\n",
    "            print(f\"✅ Arquivo movido para {new_path}\")\n",
    "        else:\n",
    "            print(f\"⚠️ Arquivo não encontrado: {current_path}\")"
   ]
  },
  {
   "cell_type": "code",
   "execution_count": null,
   "metadata": {},
   "outputs": [],
   "source": [
    "directory = '../'\n",
    "for root, dirs, files in os.walk(directory):\n",
    "    for dir in dirs:\n",
    "        print(f\"  Subpasta: {dir}\")\n",
    "    for file in files:\n",
    "        if file.endswith('.sql'):\n",
    "            print(f\"  Arquivo SQL: {file}\")"
   ]
  }
 ],
 "metadata": {
  "kernelspec": {
   "display_name": "Python 3",
   "language": "python",
   "name": "python3"
  },
  "language_info": {
   "codemirror_mode": {
    "name": "ipython",
    "version": 3
   },
   "file_extension": ".py",
   "mimetype": "text/x-python",
   "name": "python",
   "nbconvert_exporter": "python",
   "pygments_lexer": "ipython3",
   "version": "3.9.2rc1"
  }
 },
 "nbformat": 4,
 "nbformat_minor": 2
}
